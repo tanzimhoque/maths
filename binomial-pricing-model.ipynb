{
 "cells": [
  {
   "source": [
    "\"\"\"\n",
    "Single period binomial pricing model\n",
    "\n",
    "u = S1(H) / S0   [Up factor]\n",
    "d = S1(T) / S0   [Down factor]\n",
    "r = 1 + r        [Interest rate]\n",
    "No arbitrage: 0 < d < 1 + r < u \n",
    "\n",
    "Let S(0)=4, u=2, d=1/2, r=1/4 then S1(H)=8 (4*2) and S1(T)=2 (4*1/2)\n",
    "Call option is K=5 and we have initial wealth X0=1.20\n",
    "We want to buy Δ0=1/2 of shares, this will cost 2 meaning we will borrow 0.80\n",
    "Cash position is X0-Δ0S0=-0.8 this translates to 1.20-1/2*4=-0.8\n",
    "Cash position at T1 is (1+r)(X0-Δ0S0)=-1 this translate to (1+1/4)(1.20-1/2*4)=-1   \n",
    "\"\"\"\n",
    "\n",
    "s0 = 4 # stock price at time 0\n",
    "u = 2 # up factor\n",
    "d = 1/2 # down factor\n",
    "r = 1/4 # interest rate\n",
    "s1h = s0 * u # S1(H)\n",
    "s1t = s0 * d # S1(T)\n",
    "k = 5 # call option\n",
    "x0 = 1.20 # initial weatlh\n",
    "Δ0 = 1/2 # buy shares\n",
    "\n",
    "print(\"no arbitrage assumption:\", 0 < d < 1 + r < u)\n",
    "print(\"cash position:\", x0-Δ0*s0)\n",
    "print(\"cash position at T1:\", (1+r)*(x0-Δ0*s0))\n",
    "\n",
    "\"\"\"\n",
    "the stock value at T1 can either be 1/2*S1(H) = 4 or 1/2*S1(T) = 1\n",
    "the value of our portfolio if the coin flips to H will be X1(H)=1/2*S1(H)+(1+r)(X0-Δ0S0)=3\n",
    "the value of our portfolio if the coin flips to T will be X1(T)=1/2*S1(T)+(1+r)(X0-Δ0S0)=0\n",
    "\"\"\"\n",
    "\n",
    "print(\"value of our portfolio if H at T1\", 1/2*(s0*u)+(1+r)*(x0-Δ0*s0))\n",
    "print(\"value of our portfolio if T at T1\", 1/2*(s0*d)+(1+r)*(x0-Δ0*s0))\n",
    "\n",
    "\"\"\"\n",
    "we define a derivative security to be a security that pays some amount V1(H) at T1 and V1(T) e.g. european call option pay off (K - S1) at T1 or forward contract S1-K\n",
    "to determine price V0 at T0 we need to replicate, we begin initial wealth X0 and buy Δ0 shares of stock at T0 which leaves us with X0--Δ0*S0 cash position\n",
    "the value of our portfolio and money market account is X1=Δ0S1+(1+r)(X0-Δ0S0)=(1+r)X0+Δ0(S1-(1+r)S0)\n",
    "delta hedging formual is Δ0=V1(H)-V1(T)/S1(H)-S1(T)\n",
    "\"\"\"\n",
    "\n",
    "print(\"\")"
   ],
   "cell_type": "code",
   "metadata": {},
   "execution_count": 60,
   "outputs": [
    {
     "output_type": "stream",
     "name": "stdout",
     "text": [
      "no arbitrage assumption: True\ncash position: -0.8\ncash position at T1: -1.0\nvalue of our portfolio if H at T1 3.0\nvalue of our portfolio if T at T1 0.0\n\n"
     ]
    }
   ]
  }
 ],
 "metadata": {
  "kernelspec": {
   "name": "Python 3.8.3 64-bit (conda)",
   "display_name": "Python 3.8.3 64-bit (conda)",
   "metadata": {
    "interpreter": {
     "hash": "9e24cfcccde7501f772d640cb15aecb13167202004f5fe0ac051115b855bf649"
    }
   }
  }
 },
 "nbformat": 4,
 "nbformat_minor": 4
}