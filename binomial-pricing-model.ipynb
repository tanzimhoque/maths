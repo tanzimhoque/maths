{
 "cells": [
  {
   "source": [
    "\"\"\"\n",
    "Single period binomial pricing model\n",
    "\"\"\""
   ],
   "cell_type": "code",
   "metadata": {},
   "execution_count": 8,
   "outputs": [
    {
     "output_type": "stream",
     "name": "stdout",
     "text": [
      "hello\n"
     ]
    }
   ]
  }
 ],
 "metadata": {
  "kernelspec": {
   "name": "Python 3.8.3 64-bit (conda)",
   "display_name": "Python 3.8.3 64-bit (conda)",
   "metadata": {
    "interpreter": {
     "hash": "9e24cfcccde7501f772d640cb15aecb13167202004f5fe0ac051115b855bf649"
    }
   }
  }
 },
 "nbformat": 4,
 "nbformat_minor": 4
}